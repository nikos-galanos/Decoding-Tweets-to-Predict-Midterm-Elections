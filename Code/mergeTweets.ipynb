{
 "cells": [
  {
   "cell_type": "markdown",
   "id": "bc02cf6a",
   "metadata": {},
   "source": [
    "### Purpose\n",
    "\n",
    "The purpose of this notebook is to merge the various downloaded excel files of various senators. As explained in the previous notebook, we had to download the tweets of senators in batches due to API limitations so here we merge the various files into one"
   ]
  },
  {
   "cell_type": "code",
   "execution_count": 10,
   "id": "1cbf3530",
   "metadata": {},
   "outputs": [
    {
     "name": "stdout",
     "output_type": "stream",
     "text": [
      "Collecting openpyxl\n",
      "  Downloading openpyxl-3.0.10-py2.py3-none-any.whl (242 kB)\n",
      "     -------------------------------------- 242.1/242.1 kB 4.9 MB/s eta 0:00:00\n",
      "Collecting et-xmlfile\n",
      "  Downloading et_xmlfile-1.1.0-py3-none-any.whl (4.7 kB)\n",
      "Installing collected packages: et-xmlfile, openpyxl\n",
      "Successfully installed et-xmlfile-1.1.0 openpyxl-3.0.10\n",
      "Note: you may need to restart the kernel to use updated packages.\n"
     ]
    }
   ],
   "source": [
    "pip install openpyxl"
   ]
  },
  {
   "cell_type": "code",
   "execution_count": 1,
   "id": "d95ce191",
   "metadata": {},
   "outputs": [],
   "source": [
    "import pandas as pd\n",
    "import glob\n",
    "import json"
   ]
  },
  {
   "cell_type": "code",
   "execution_count": 4,
   "id": "057e39cd",
   "metadata": {},
   "outputs": [
    {
     "name": "stdout",
     "output_type": "stream",
     "text": [
      "32\n"
     ]
    }
   ],
   "source": [
    "users = glob.glob('./users*')\n",
    "count = 0\n",
    "user_l = []\n",
    "for filename in users:\n",
    "    df = pd.read_excel(filename)\n",
    "    user_d = df.to_dict(\"records\")\n",
    "    for user in user_d:\n",
    "        metrics = eval(user[\"public_metrics\"])\n",
    "        user.pop(\"public_metrics\")\n",
    "        user.pop(\"Unnamed: 0\", None)\n",
    "        user.update(metrics)\n",
    "        user_l.append(user)\n",
    "        count += 1\n",
    "print(len(user_l))"
   ]
  },
  {
   "cell_type": "code",
   "execution_count": 5,
   "id": "6e952e0f",
   "metadata": {},
   "outputs": [
    {
     "name": "stdout",
     "output_type": "stream",
     "text": [
      "./tweetsStephen_Faris.xlsx\n",
      "./tweetsbuschvalentine.xlsx\n",
      "./tweetsSenMikeLee.xlsx\n",
      "./tweetsEvanMcMullin.xlsx\n",
      "./tweetssalviforsenate.xlsx\n",
      "./tweetsEric_Schmitt.xlsx\n",
      "./tweetsSenRubioPress.xlsx\n",
      "./tweetstommcdermottjr.xlsx\n",
      "./tweetsiamforussenator.xlsx\n",
      "./tweetsConnorVlakancic.xlsx\n",
      "./tweetsLeoraLevyCT.xlsx\n",
      "./tweetsUlomaEkpete.xlsx\n",
      "./tweetsSenDuckworth.xlsx\n",
      "./tweetsSenBlumenthal.xlsx\n",
      "./tweetsRepTimRyan.xlsx\n",
      "./tweetsLaShondraTinsl1.xlsx\n",
      "2891\n"
     ]
    }
   ],
   "source": [
    "tweets = glob.glob('./tweets*')\n",
    "tweet_l = []\n",
    "for filename in tweets:\n",
    "    print(filename)\n",
    "    df = pd.read_excel(filename)\n",
    "    tweet_d = df.to_dict(\"records\")\n",
    "    tweet_l += tweet_d\n",
    "print(len(tweet_l))"
   ]
  },
  {
   "cell_type": "code",
   "execution_count": 6,
   "id": "a62dea81",
   "metadata": {},
   "outputs": [
    {
     "name": "stdout",
     "output_type": "stream",
     "text": [
      "./replySenRubioPress.xlsx\n",
      "./replyEvanMcMullin.xlsx\n",
      "./replyLeoraLevyCT.xlsx\n",
      "./replyUlomaEkpete.xlsx\n",
      "./replyEric_Schmitt.xlsx\n",
      "./replyiamforussenator.xlsx\n",
      "./replytommcdermottjr.xlsx\n",
      "./replyConnorVlakancic.xlsx\n",
      "./replySenBlumenthal.xlsx\n",
      "./replySenMikeLee.xlsx\n",
      "./replyLaShondraTinsl1.xlsx\n",
      "./replyStephen_Faris.xlsx\n",
      "./replyRepTimRyan.xlsx\n",
      "./replybuschvalentine.xlsx\n",
      "./replySenDuckworth.xlsx\n",
      "./replysalviforsenate.xlsx\n",
      "12648\n"
     ]
    }
   ],
   "source": [
    "replies = glob.glob('./reply*')\n",
    "reply_l = []\n",
    "for filename in replies:\n",
    "    print(filename)\n",
    "    df = pd.read_excel(filename)\n",
    "    reply_d = df.to_dict(\"records\")\n",
    "    reply_l += reply_d\n",
    "print(len(reply_l))"
   ]
  },
  {
   "cell_type": "code",
   "execution_count": 7,
   "id": "14745820",
   "metadata": {},
   "outputs": [],
   "source": [
    "for reply in reply_l:\n",
    "    found = 0\n",
    "    for tweet in tweet_l:\n",
    "        if reply[\"replyTo\"] == tweet[\"tweetId\"]:\n",
    "            found = 1\n",
    "            break\n",
    "    if not found:\n",
    "        print(reply)"
   ]
  },
  {
   "cell_type": "code",
   "execution_count": 8,
   "id": "b40eaf02",
   "metadata": {},
   "outputs": [],
   "source": [
    "df1 = pd.DataFrame(user_l)"
   ]
  },
  {
   "cell_type": "code",
   "execution_count": 9,
   "id": "fb66d7ca",
   "metadata": {},
   "outputs": [],
   "source": [
    "df1.to_excel(\"./users.xlsx\", index=False)"
   ]
  },
  {
   "cell_type": "code",
   "execution_count": 10,
   "id": "bdfd4a04",
   "metadata": {},
   "outputs": [],
   "source": [
    "df2 = pd.DataFrame(tweet_l)\n",
    "df2.to_excel(\"./tweets.xlsx\", index=False)\n",
    "df3 = pd.DataFrame(reply_l)\n",
    "df3.to_excel(\"./replies.xlsx\", index=False)"
   ]
  },
  {
   "cell_type": "code",
   "execution_count": null,
   "id": "c8e7841d",
   "metadata": {},
   "outputs": [],
   "source": []
  }
 ],
 "metadata": {
  "kernelspec": {
   "display_name": "Python 3 (ipykernel)",
   "language": "python",
   "name": "python3"
  },
  "language_info": {
   "codemirror_mode": {
    "name": "ipython",
    "version": 3
   },
   "file_extension": ".py",
   "mimetype": "text/x-python",
   "name": "python",
   "nbconvert_exporter": "python",
   "pygments_lexer": "ipython3",
   "version": "3.9.12"
  }
 },
 "nbformat": 4,
 "nbformat_minor": 5
}
